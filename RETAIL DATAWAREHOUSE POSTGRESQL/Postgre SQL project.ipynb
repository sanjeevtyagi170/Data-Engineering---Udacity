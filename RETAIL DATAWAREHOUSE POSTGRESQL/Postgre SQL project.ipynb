{
 "cells": [
  {
   "cell_type": "markdown",
   "metadata": {},
   "source": [
    "# Importing useful libraries"
   ]
  },
  {
   "cell_type": "code",
   "execution_count": 103,
   "metadata": {},
   "outputs": [],
   "source": [
    "import pandas as pd\n",
    "import psycopg2"
   ]
  },
  {
   "cell_type": "markdown",
   "metadata": {},
   "source": [
    "# Create a connection to the database"
   ]
  },
  {
   "cell_type": "code",
   "execution_count": 104,
   "metadata": {},
   "outputs": [],
   "source": [
    "try: \n",
    "    conn = psycopg2.connect(\"host=127.0.0.1 dbname=studentdb user=student password=student\")\n",
    "except psycopg2.Error as e: \n",
    "    print(\"Error: Could not make connection to the Postgres database\")\n",
    "    print(e)"
   ]
  },
  {
   "cell_type": "markdown",
   "metadata": {},
   "source": [
    "# Next use that connect to get a cursor that we will use to execute queries."
   ]
  },
  {
   "cell_type": "code",
   "execution_count": 105,
   "metadata": {},
   "outputs": [],
   "source": [
    "try: \n",
    "    cur = conn.cursor()\n",
    "except psycopg2.Error as e: \n",
    "    print(\"Error: Could not get cursor to the Database\")\n",
    "    print(e)"
   ]
  },
  {
   "cell_type": "markdown",
   "metadata": {},
   "source": [
    "# For this demo we will use automactic commit so that each action is commited without having to call conn.commit() after each command. The ability to rollback and commit transactions are a feature of Relational Databases. "
   ]
  },
  {
   "cell_type": "code",
   "execution_count": 106,
   "metadata": {},
   "outputs": [],
   "source": [
    "conn.set_session(autocommit=True)"
   ]
  },
  {
   "cell_type": "markdown",
   "metadata": {},
   "source": [
    "#  <center>Retial datawarehouse schema design for postgre database</center>\n",
    "<center>\n",
    "<img style=\"float: center;height:400px;\" src=\"Retail_Schema.jpg\"><br><br>\n",
    "</center>"
   ]
  },
  {
   "cell_type": "markdown",
   "metadata": {},
   "source": [
    "# Creating dim_customer table and inserting records in it"
   ]
  },
  {
   "cell_type": "code",
   "execution_count": 107,
   "metadata": {},
   "outputs": [],
   "source": [
    "cur.execute(\"drop table if exists dim_customer\")\n",
    "cur.execute(\"drop table if exists dim_product\")\n",
    "cur.execute(\"drop table if exists fact_transactions\")\n",
    "try: \n",
    "    cur.execute(\"CREATE TABLE IF NOT EXISTS dim_customer (\\\n",
    "                customer_id int,\\\n",
    "                dob varchar , \\\n",
    "                gender char , \\\n",
    "                city_code varchar);\")\n",
    "except psycopg2.Error as e: \n",
    "    print(\"Error: Issue creating table\")\n",
    "    print (e)\n",
    "    \n",
    "with open('customer.csv', 'r') as row:\n",
    "    next(row)# Skip the header row.\n",
    "    cur.copy_from(row, 'dim_customer', sep=',')\n",
    "\n",
    "#  Checking referential intergrity   \n",
    "# try: \n",
    "#     cur.execute(\"insert into customer values(null,'11/04/1991','M',5\\\n",
    "#                );\")\n",
    "# except psycopg2.Error as e: \n",
    "#     print(\"Error: Issue creating table\")\n",
    "#     print (e)"
   ]
  },
  {
   "cell_type": "markdown",
   "metadata": {},
   "source": [
    "# Creating dim_product table  and inserting records in it"
   ]
  },
  {
   "cell_type": "code",
   "execution_count": 72,
   "metadata": {},
   "outputs": [],
   "source": [
    "cur.execute(\"drop table if exists dim_product \")\n",
    "try: \n",
    "    cur.execute(\"CREATE TABLE IF NOT EXISTS dim_product (\\\n",
    "                prod_cat_code int,\\\n",
    "                prod_cat varchar,\\\n",
    "                prod_sub_cat_code int,\\\n",
    "                prod_subcat varchar\\\n",
    "            );\")\n",
    "except psycopg2.Error as e: \n",
    "    print(\"Error: Issue creating table\")\n",
    "    print (e)\n",
    "    \n",
    "with open('prod_cat_info.csv', 'r') as row:\n",
    "    next(row)# Skip the header row.\n",
    "    cur.copy_from(row, 'dim_product', sep=',')"
   ]
  },
  {
   "cell_type": "markdown",
   "metadata": {},
   "source": [
    "# Creating fact_transactions table and inserting records in it"
   ]
  },
  {
   "cell_type": "code",
   "execution_count": 73,
   "metadata": {},
   "outputs": [],
   "source": [
    "cur.execute(\"drop table if exists fact_transactions \")\n",
    "try: \n",
    "    cur.execute(\"CREATE TABLE IF NOT EXISTS fact_transactions (\\\n",
    "                transaction_id bigint,\\\n",
    "                cust_id int,\\\n",
    "                tran_date varchar(12),\\\n",
    "                prod_subcat_code int,\\\n",
    "                prod_cat_code int,\\\n",
    "                qty int,\\\n",
    "                rate int,\\\n",
    "                tax float,\\\n",
    "                total_amt float,\\\n",
    "                store_type varchar\\\n",
    "                );\")\n",
    "except psycopg2.Error as e: \n",
    "    print(\"Error: Issue creating table\")\n",
    "    print (e)\n",
    "    \n",
    "with open('transactions.csv', 'r') as row:\n",
    "    next(row)# Skip the header row.\n",
    "    cur.copy_from(row, 'fact_transactions', sep=',')"
   ]
  },
  {
   "cell_type": "markdown",
   "metadata": {},
   "source": [
    "# Analysis"
   ]
  },
  {
   "cell_type": "code",
   "execution_count": 75,
   "metadata": {},
   "outputs": [],
   "source": [
    "# cur.execute(\"SELECT * FROM pg_catalog.pg_tables where schemaname!='pg_catalog';\")\n",
    "# print(pd.DataFrame(cur.fetchall()))"
   ]
  },
  {
   "cell_type": "code",
   "execution_count": 86,
   "metadata": {},
   "outputs": [
    {
     "name": "stdout",
     "output_type": "stream",
     "text": [
      "[(80712190438, 270351, '28-02-2014', 1, 1, -5, -772, 405.3, -4265.3, 'e-Shop'), (29258453508, 270384, '27-02-2014', 5, 3, -5, -1497, 785.925, -8270.925, 'e-Shop'), (51750724947, 273420, '24-02-2014', 6, 5, -2, -791, 166.11, -1748.11, 'TeleShop'), (93274880719, 271509, '24-02-2014', 11, 6, -3, -1363, 429.345, -4518.345, 'e-Shop'), (51750724947, 273420, '23-02-2014', 6, 5, -2, -791, 166.11, -1748.11, 'TeleShop')]\n"
     ]
    }
   ],
   "source": [
    "cur.execute(\"\"\"select * from fact_transactions limit 5\"\"\")\n",
    "print(cur.fetchall())"
   ]
  },
  {
   "cell_type": "code",
   "execution_count": 79,
   "metadata": {},
   "outputs": [
    {
     "name": "stdout",
     "output_type": "stream",
     "text": [
      "[('no of rows in prod_info table', 23), ('no of rows in customer table', 5647), ('no of rows in transactions table', 23053)]\n"
     ]
    }
   ],
   "source": [
    "# What is the total number of rows in each of the three tables\n",
    "cur.execute(\"\"\"select 'no of rows in customer table',count(*) from dim_customer\n",
    "union\n",
    "select 'no of rows in prod_info table', count(*) from dim_product\n",
    "union\n",
    "select 'no of rows in transactions table',count(*) from fact_transactions;\"\"\")\n",
    "print(cur.fetchall())"
   ]
  },
  {
   "cell_type": "code",
   "execution_count": 90,
   "metadata": {},
   "outputs": [
    {
     "name": "stdout",
     "output_type": "stream",
     "text": [
      "[(80712190438, 270351, '28-02-2014', 1, 1, -5, -772, 405.3, -4265.3, 'e-Shop'), (29258453508, 270384, '27-02-2014', 5, 3, -5, -1497, 785.925, -8270.925, 'e-Shop'), (51750724947, 273420, '24-02-2014', 6, 5, -2, -791, 166.11, -1748.11, 'TeleShop'), (93274880719, 271509, '24-02-2014', 11, 6, -3, -1363, 429.345, -4518.345, 'e-Shop'), (51750724947, 273420, '23-02-2014', 6, 5, -2, -791, 166.11, -1748.11, 'TeleShop')]\n"
     ]
    }
   ],
   "source": [
    "# What is the total number of transactions that have a return\n",
    "cur.execute(\"\"\"select * from fact_transactions\n",
    "where qty<0 limit 5\"\"\")\n",
    "print(cur.fetchall())"
   ]
  },
  {
   "cell_type": "code",
   "execution_count": 94,
   "metadata": {},
   "outputs": [
    {
     "name": "stdout",
     "output_type": "stream",
     "text": [
      "[('3', 595)]\n"
     ]
    }
   ],
   "source": [
    "# Which city has max number number of customers\n",
    "cur.execute(\"\"\"select city_code,count(*) as total from dim_customer group by city_code\n",
    "having count(*)=(select max(total) as max_value from (select city_code,count(*) as total \n",
    "from dim_customer group by city_code) f);\"\"\")\n",
    "print(cur.fetchall())"
   ]
  },
  {
   "cell_type": "code",
   "execution_count": 96,
   "metadata": {},
   "outputs": [
    {
     "name": "stdout",
     "output_type": "stream",
     "text": [
      "[('Electronics', 53612318.1750001), ('Books', 76936164.2399989)]\n"
     ]
    }
   ],
   "source": [
    "# Net total revenue generated in categories Electronics and books\n",
    "cur.execute(\"\"\"select b.prod_cat,sum(a.total_amt) as revenue \n",
    "from fact_transactions a join dim_product b\n",
    "on a.prod_cat_code=b.prod_cat_code\n",
    "where b.prod_cat in ('Books','Electronics')\n",
    "group by b.prod_cat;\"\"\")\n",
    "print(cur.fetchall())"
   ]
  },
  {
   "cell_type": "code",
   "execution_count": 98,
   "metadata": {},
   "outputs": [
    {
     "name": "stdout",
     "output_type": "stream",
     "text": [
      "[('Clothing', 'Flagship store', 3583269.69000001), ('Electronics', 'Flagship store', 11075680.2)]\n"
     ]
    }
   ],
   "source": [
    "# Total Revenue earned from the Electronics and Clothing from flagship stores\n",
    "cur.execute(\"\"\"select b.prod_cat,a.Store_type,sum(a.total_amt) as total_revenue from fact_transactions a \n",
    "join dim_product b\n",
    "on a.prod_cat_code=b.prod_cat_code\n",
    "where b.prod_cat in ('Clothing','Electronics') and a.Store_type='Flagship store'\n",
    "group by b.prod_cat,a.Store_type\"\"\")\n",
    "print(cur.fetchall())"
   ]
  },
  {
   "cell_type": "code",
   "execution_count": 102,
   "metadata": {},
   "outputs": [
    {
     "name": "stdout",
     "output_type": "stream",
     "text": [
      "[('Mobiles', 1192413.235), ('Computers', 1091417.34), ('Personal Appliances', 1107593.435), ('Cameras', 1172702.245), ('Audio and video', 1138983.17)]\n"
     ]
    }
   ],
   "source": [
    "#\n",
    "cur.execute(\"\"\"select c.prod_subcat,sum(total_amt) as total_revenue\n",
    "from fact_transactions a \n",
    "left join dim_customer b \n",
    "on a.cust_id=b.customer_id\n",
    "left join dim_product c\n",
    "on a.prod_cat_code=c.prod_cat_code and a.prod_subcat_code=c.prod_sub_cat_code\n",
    "where b.gender = 'M' and c.prod_cat='Electronics'\n",
    "group by a.prod_subcat_code,c.prod_subcat;\"\"\")\n",
    "print(cur.fetchall())"
   ]
  }
 ],
 "metadata": {
  "kernelspec": {
   "display_name": "Python 3",
   "language": "python",
   "name": "python3"
  },
  "language_info": {
   "codemirror_mode": {
    "name": "ipython",
    "version": 3
   },
   "file_extension": ".py",
   "mimetype": "text/x-python",
   "name": "python",
   "nbconvert_exporter": "python",
   "pygments_lexer": "ipython3",
   "version": "3.6.3"
  }
 },
 "nbformat": 4,
 "nbformat_minor": 2
}
